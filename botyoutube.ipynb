{
 "cells": [
  {
   "cell_type": "code",
   "execution_count": 84,
   "metadata": {},
   "outputs": [],
   "source": [
    "import pyautogui as pa\n",
    "import time\n",
    "import pyperclip"
   ]
  },
  {
   "cell_type": "markdown",
   "metadata": {},
   "source": [
    "# press serve para dar enter\n",
    "# write serve para escrever\n",
    "# click serve para clicar"
   ]
  },
  {
   "cell_type": "code",
   "execution_count": 86,
   "metadata": {},
   "outputs": [],
   "source": [
    "pa.press('win')\n",
    "pa.write(\"chrome\")\n",
    "time.sleep(1)\n",
    "pa.press('ENTER')\n",
    "time.sleep(1)\n",
    "pa.write(\"youtube.com\")\n",
    "time.sleep(1)\n",
    "pa.press('ENTER')\n",
    "time.sleep(3)\n",
    "pa.click(x=625, y=167)\n",
    "time.sleep(1)\n",
    "pesquisa = input(\"Digite o video que procura\")\n",
    "#pyperclip.copy(\"Jesus em tua presença\")\n",
    "#time.sleep(1)\n",
    "#pa.hotkey('ctrl', 'v')\n",
    "time.sleep(1)\n",
    "pa.press('ENTER')\n",
    "time.sleep(1)\n",
    "pa.click(x=535, y=378)\n",
    "\n",
    "\n"
   ]
  }
 ],
 "metadata": {
  "kernelspec": {
   "display_name": "Python 3",
   "language": "python",
   "name": "python3"
  },
  "language_info": {
   "codemirror_mode": {
    "name": "ipython",
    "version": 3
   },
   "file_extension": ".py",
   "mimetype": "text/x-python",
   "name": "python",
   "nbconvert_exporter": "python",
   "pygments_lexer": "ipython3",
   "version": "3.13.0"
  }
 },
 "nbformat": 4,
 "nbformat_minor": 2
}
